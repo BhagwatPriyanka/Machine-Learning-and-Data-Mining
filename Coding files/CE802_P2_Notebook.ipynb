{
  "nbformat": 4,
  "nbformat_minor": 0,
  "metadata": {
    "colab": {
      "name": "CE802_P2_Notebook.ipynb",
      "provenance": [],
      "collapsed_sections": []
    },
    "kernelspec": {
      "name": "python3",
      "display_name": "Python 3"
    }
  },
  "cells": [
    {
      "cell_type": "code",
      "metadata": {
        "id": "f551dVoCJJkC"
      },
      "source": [
        "import pandas as pd\n",
        "import numpy as np\n",
        "import seaborn as sns\n",
        "import matplotlib.pyplot as plt\n",
        "from sklearn.linear_model import LinearRegression\n",
        "from sklearn.metrics import mean_squared_error, r2_score\n",
        "from sklearn import preprocessing\n",
        "from sklearn.model_selection import train_test_split"
      ],
      "execution_count": 183,
      "outputs": []
    },
    {
      "cell_type": "code",
      "metadata": {
        "colab": {
          "base_uri": "https://localhost:8080/"
        },
        "id": "igYKCEwkKiFC",
        "outputId": "e9b91f9a-76a6-420e-c42d-26dab081e8e3"
      },
      "source": [
        "import os\n",
        "from google.colab import drive \n",
        "drive.mount('/content/drive')\n",
        "%cd /content/drive/My\\ Drive/\n",
        "os.chdir('/content/drive/My Drive/CE802')\n",
        "!pwd"
      ],
      "execution_count": 184,
      "outputs": [
        {
          "output_type": "stream",
          "text": [
            "Drive already mounted at /content/drive; to attempt to forcibly remount, call drive.mount(\"/content/drive\", force_remount=True).\n",
            "/content/drive/My Drive\n",
            "/content/drive/My Drive/CE802\n"
          ],
          "name": "stdout"
        }
      ]
    },
    {
      "cell_type": "markdown",
      "metadata": {
        "id": "yp-SM3_r8mo-"
      },
      "source": [
        "# **Data Analyzing**"
      ]
    },
    {
      "cell_type": "code",
      "metadata": {
        "colab": {
          "base_uri": "https://localhost:8080/"
        },
        "id": "oia6p8M_4DU7",
        "outputId": "1b5c6d61-7765-4e6d-d8cb-c02a6f7df0e1"
      },
      "source": [
        "#reading and loading training dataset\n",
        "train_data=pd.read_csv('/content/drive/My Drive/CE802/CE802_P2_Data.csv',sep=',')\n",
        "train_data.head"
      ],
      "execution_count": 185,
      "outputs": [
        {
          "output_type": "execute_result",
          "data": {
            "text/plain": [
              "<bound method NDFrame.head of       F1     F2     F3      F4     F5  ...  F12     F13    F14   F15  Class\n",
              "0     20 -21.42  13.10  464.04  -6.10  ...  365    0.47   3.40 -3.90  False\n",
              "1     20 -27.12  13.50  299.04  -6.18  ...  205 -129.53   7.12   NaN  False\n",
              "2     20 -33.87  10.50  854.04  -9.32  ...  330  -44.53   4.62 -3.84  False\n",
              "3     20 -25.38  19.40  809.04 -12.69  ...  215  -54.53   2.26   NaN  False\n",
              "4     20 -23.22  16.00  359.04  -7.70  ...   85 -134.53  -0.20 -7.76   True\n",
              "...   ..    ...    ...     ...    ...  ...  ...     ...    ...   ...    ...\n",
              "1495   2 -37.62   1.18  188.04 -10.85  ...   13  -56.53  19.06 -6.05   True\n",
              "1496  20 -20.37  11.20  224.04  -8.32  ...  185 -109.53  -1.12   NaN  False\n",
              "1497  20 -26.25  16.70  314.04  -5.65  ...  290    0.47  -0.44 -7.29   True\n",
              "1498  20 -20.46  17.70  629.04  -6.42  ...  190 -124.53  -2.90   NaN   True\n",
              "1499  20 -21.39  16.40  674.04 -10.11  ...  120 -139.53  -0.36 -4.34  False\n",
              "\n",
              "[1500 rows x 16 columns]>"
            ]
          },
          "metadata": {
            "tags": []
          },
          "execution_count": 185
        }
      ]
    },
    {
      "cell_type": "code",
      "metadata": {
        "colab": {
          "base_uri": "https://localhost:8080/",
          "height": 315
        },
        "id": "S9zAxX_E_kVI",
        "outputId": "036957fe-9c0a-40ab-ccb2-ed5f125ecc8a"
      },
      "source": [
        "#Analysing all columns in training dataset\n",
        "train_data.describe()"
      ],
      "execution_count": 186,
      "outputs": [
        {
          "output_type": "execute_result",
          "data": {
            "text/html": [
              "<div>\n",
              "<style scoped>\n",
              "    .dataframe tbody tr th:only-of-type {\n",
              "        vertical-align: middle;\n",
              "    }\n",
              "\n",
              "    .dataframe tbody tr th {\n",
              "        vertical-align: top;\n",
              "    }\n",
              "\n",
              "    .dataframe thead th {\n",
              "        text-align: right;\n",
              "    }\n",
              "</style>\n",
              "<table border=\"1\" class=\"dataframe\">\n",
              "  <thead>\n",
              "    <tr style=\"text-align: right;\">\n",
              "      <th></th>\n",
              "      <th>F1</th>\n",
              "      <th>F2</th>\n",
              "      <th>F3</th>\n",
              "      <th>F4</th>\n",
              "      <th>F5</th>\n",
              "      <th>F6</th>\n",
              "      <th>F7</th>\n",
              "      <th>F8</th>\n",
              "      <th>F9</th>\n",
              "      <th>F10</th>\n",
              "      <th>F11</th>\n",
              "      <th>F12</th>\n",
              "      <th>F13</th>\n",
              "      <th>F14</th>\n",
              "      <th>F15</th>\n",
              "    </tr>\n",
              "  </thead>\n",
              "  <tbody>\n",
              "    <tr>\n",
              "      <th>count</th>\n",
              "      <td>1500.000000</td>\n",
              "      <td>1500.000000</td>\n",
              "      <td>1500.000000</td>\n",
              "      <td>1500.000000</td>\n",
              "      <td>1500.000000</td>\n",
              "      <td>1500.000000</td>\n",
              "      <td>1500.000000</td>\n",
              "      <td>1500.000000</td>\n",
              "      <td>1500.00000</td>\n",
              "      <td>1500.000000</td>\n",
              "      <td>1500.000000</td>\n",
              "      <td>1500.000000</td>\n",
              "      <td>1500.000000</td>\n",
              "      <td>1500.000000</td>\n",
              "      <td>750.000000</td>\n",
              "    </tr>\n",
              "    <tr>\n",
              "      <th>mean</th>\n",
              "      <td>10.806667</td>\n",
              "      <td>-31.029780</td>\n",
              "      <td>7.708560</td>\n",
              "      <td>387.376000</td>\n",
              "      <td>-9.067533</td>\n",
              "      <td>-7.674867</td>\n",
              "      <td>-11.298000</td>\n",
              "      <td>22.015627</td>\n",
              "      <td>9.93752</td>\n",
              "      <td>-4.958840</td>\n",
              "      <td>-12.037060</td>\n",
              "      <td>109.024667</td>\n",
              "      <td>-63.944000</td>\n",
              "      <td>4.917573</td>\n",
              "      <td>-5.843013</td>\n",
              "    </tr>\n",
              "    <tr>\n",
              "      <th>std</th>\n",
              "      <td>9.009814</td>\n",
              "      <td>7.662813</td>\n",
              "      <td>6.930553</td>\n",
              "      <td>214.250623</td>\n",
              "      <td>2.491236</td>\n",
              "      <td>2.545172</td>\n",
              "      <td>7.159315</td>\n",
              "      <td>6.333818</td>\n",
              "      <td>8.65042</td>\n",
              "      <td>7.541549</td>\n",
              "      <td>3.326893</td>\n",
              "      <td>117.334580</td>\n",
              "      <td>40.188448</td>\n",
              "      <td>5.081288</td>\n",
              "      <td>1.005117</td>\n",
              "    </tr>\n",
              "    <tr>\n",
              "      <th>min</th>\n",
              "      <td>0.000000</td>\n",
              "      <td>-56.220000</td>\n",
              "      <td>0.000000</td>\n",
              "      <td>149.040000</td>\n",
              "      <td>-16.800000</td>\n",
              "      <td>-16.040000</td>\n",
              "      <td>-28.660000</td>\n",
              "      <td>14.640000</td>\n",
              "      <td>0.00000</td>\n",
              "      <td>-18.390000</td>\n",
              "      <td>-24.750000</td>\n",
              "      <td>0.000000</td>\n",
              "      <td>-164.530000</td>\n",
              "      <td>-4.400000</td>\n",
              "      <td>-8.200000</td>\n",
              "    </tr>\n",
              "    <tr>\n",
              "      <th>25%</th>\n",
              "      <td>2.000000</td>\n",
              "      <td>-36.720000</td>\n",
              "      <td>1.200000</td>\n",
              "      <td>221.040000</td>\n",
              "      <td>-10.902500</td>\n",
              "      <td>-9.560000</td>\n",
              "      <td>-18.660000</td>\n",
              "      <td>16.080000</td>\n",
              "      <td>2.48000</td>\n",
              "      <td>-12.180000</td>\n",
              "      <td>-13.770000</td>\n",
              "      <td>15.000000</td>\n",
              "      <td>-79.530000</td>\n",
              "      <td>-0.040000</td>\n",
              "      <td>-6.590000</td>\n",
              "    </tr>\n",
              "    <tr>\n",
              "      <th>50%</th>\n",
              "      <td>2.000000</td>\n",
              "      <td>-34.020000</td>\n",
              "      <td>2.040000</td>\n",
              "      <td>281.040000</td>\n",
              "      <td>-10.020000</td>\n",
              "      <td>-8.665000</td>\n",
              "      <td>-7.660000</td>\n",
              "      <td>16.800000</td>\n",
              "      <td>4.14000</td>\n",
              "      <td>-2.010000</td>\n",
              "      <td>-11.580000</td>\n",
              "      <td>50.000000</td>\n",
              "      <td>-58.530000</td>\n",
              "      <td>6.880000</td>\n",
              "      <td>-5.850000</td>\n",
              "    </tr>\n",
              "    <tr>\n",
              "      <th>75%</th>\n",
              "      <td>20.000000</td>\n",
              "      <td>-23.542500</td>\n",
              "      <td>14.100000</td>\n",
              "      <td>569.040000</td>\n",
              "      <td>-6.690000</td>\n",
              "      <td>-5.220000</td>\n",
              "      <td>-5.660000</td>\n",
              "      <td>27.540000</td>\n",
              "      <td>16.40000</td>\n",
              "      <td>0.870000</td>\n",
              "      <td>-10.080000</td>\n",
              "      <td>195.000000</td>\n",
              "      <td>-45.530000</td>\n",
              "      <td>8.680000</td>\n",
              "      <td>-5.122500</td>\n",
              "    </tr>\n",
              "    <tr>\n",
              "      <th>max</th>\n",
              "      <td>20.000000</td>\n",
              "      <td>-17.610000</td>\n",
              "      <td>20.700000</td>\n",
              "      <td>884.040000</td>\n",
              "      <td>-4.560000</td>\n",
              "      <td>-3.110000</td>\n",
              "      <td>-2.660000</td>\n",
              "      <td>34.940000</td>\n",
              "      <td>31.40000</td>\n",
              "      <td>18.030000</td>\n",
              "      <td>-4.950000</td>\n",
              "      <td>390.000000</td>\n",
              "      <td>50.470000</td>\n",
              "      <td>22.980000</td>\n",
              "      <td>-3.120000</td>\n",
              "    </tr>\n",
              "  </tbody>\n",
              "</table>\n",
              "</div>"
            ],
            "text/plain": [
              "                F1           F2  ...          F14         F15\n",
              "count  1500.000000  1500.000000  ...  1500.000000  750.000000\n",
              "mean     10.806667   -31.029780  ...     4.917573   -5.843013\n",
              "std       9.009814     7.662813  ...     5.081288    1.005117\n",
              "min       0.000000   -56.220000  ...    -4.400000   -8.200000\n",
              "25%       2.000000   -36.720000  ...    -0.040000   -6.590000\n",
              "50%       2.000000   -34.020000  ...     6.880000   -5.850000\n",
              "75%      20.000000   -23.542500  ...     8.680000   -5.122500\n",
              "max      20.000000   -17.610000  ...    22.980000   -3.120000\n",
              "\n",
              "[8 rows x 15 columns]"
            ]
          },
          "metadata": {
            "tags": []
          },
          "execution_count": 186
        }
      ]
    },
    {
      "cell_type": "code",
      "metadata": {
        "colab": {
          "base_uri": "https://localhost:8080/",
          "height": 315
        },
        "id": "3R767Zxc_kX1",
        "outputId": "c0ce42a1-db31-4b6c-8f69-d35319f15e30"
      },
      "source": [
        "#checking sample distribution\n",
        "plt.hist(train_data.F1)"
      ],
      "execution_count": 187,
      "outputs": [
        {
          "output_type": "execute_result",
          "data": {
            "text/plain": [
              "(array([ 20., 740.,   0.,   0.,   0.,   7.,   0.,   0.,   0., 733.]),\n",
              " array([ 0.,  2.,  4.,  6.,  8., 10., 12., 14., 16., 18., 20.]),\n",
              " <a list of 10 Patch objects>)"
            ]
          },
          "metadata": {
            "tags": []
          },
          "execution_count": 187
        },
        {
          "output_type": "display_data",
          "data": {
            "image/png": "[encoded data removed]",
            "text/plain": [
              "<Figure size 432x288 with 1 Axes>"
            ]
          },
          "metadata": {
            "tags": [],
            "needs_background": "light"
          }
        }
      ]
    },
    {
      "cell_type": "code",
      "metadata": {
        "colab": {
          "base_uri": "https://localhost:8080/"
        },
        "id": "k61YKfHq_kdl",
        "outputId": "cf4e7d20-afec-4f7f-a4c7-ce8da7a0dc5a"
      },
      "source": [
        "train_data.shape"
      ],
      "execution_count": 189,
      "outputs": [
        {
          "output_type": "execute_result",
          "data": {
            "text/plain": [
              "(1500, 16)"
            ]
          },
          "metadata": {
            "tags": []
          },
          "execution_count": 189
        }
      ]
    },
    {
      "cell_type": "code",
      "metadata": {
        "colab": {
          "base_uri": "https://localhost:8080/"
        },
        "id": "VM-mM8zT_kgh",
        "outputId": "e9424be4-95be-4b31-8267-545466af166b"
      },
      "source": [
        "train_data.nunique()"
      ],
      "execution_count": 190,
      "outputs": [
        {
          "output_type": "execute_result",
          "data": {
            "text/plain": [
              "F1         4\n",
              "F2       660\n",
              "F3       216\n",
              "F4        91\n",
              "F5       649\n",
              "F6       650\n",
              "F7        11\n",
              "F8       214\n",
              "F9       400\n",
              "F10      656\n",
              "F11      432\n",
              "F12      141\n",
              "F13       80\n",
              "F14      646\n",
              "F15      331\n",
              "Class      2\n",
              "dtype: int64"
            ]
          },
          "metadata": {
            "tags": []
          },
          "execution_count": 190
        }
      ]
    },
    {
      "cell_type": "code",
      "metadata": {
        "colab": {
          "base_uri": "https://localhost:8080/",
          "height": 612
        },
        "id": "yXvH6XTj_kjc",
        "outputId": "e0f73521-43ce-45ef-87c2-39ae7992eeaa"
      },
      "source": [
        "#Plotting Correlation\n",
        "plt.figure(figsize=(20,10))\n",
        "correlation=train_data.corr()\n",
        "sns.heatmap(correlation,xticklabels=correlation.columns,yticklabels=correlation.columns,annot=True)"
      ],
      "execution_count": 191,
      "outputs": [
        {
          "output_type": "execute_result",
          "data": {
            "text/plain": [
              "<matplotlib.axes._subplots.AxesSubplot at 0x7f466719b1d0>"
            ]
          },
          "metadata": {
            "tags": []
          },
          "execution_count": 191
        },
        {
          "output_type": "display_data",
          "data": {
            "image/png": "[encoded data removed]",
            "text/plain": [
              "<Figure size 1440x720 with 2 Axes>"
            ]
          },
          "metadata": {
            "tags": [],
            "needs_background": "light"
          }
        }
      ]
    },
    {
      "cell_type": "markdown",
      "metadata": {
        "id": "MJpfmKKyBeXH"
      },
      "source": [
        "**Data Cleaning**"
      ]
    },
    {
      "cell_type": "code",
      "metadata": {
        "colab": {
          "base_uri": "https://localhost:8080/"
        },
        "id": "oKYaFD5G_kmc",
        "outputId": "e90adaf2-afe8-4188-9ade-b153e4604815"
      },
      "source": [
        "train_data.isnull().sum()"
      ],
      "execution_count": 192,
      "outputs": [
        {
          "output_type": "execute_result",
          "data": {
            "text/plain": [
              "F1         0\n",
              "F2         0\n",
              "F3         0\n",
              "F4         0\n",
              "F5         0\n",
              "F6         0\n",
              "F7         0\n",
              "F8         0\n",
              "F9         0\n",
              "F10        0\n",
              "F11        0\n",
              "F12        0\n",
              "F13        0\n",
              "F14        0\n",
              "F15      750\n",
              "Class      0\n",
              "dtype: int64"
            ]
          },
          "metadata": {
            "tags": []
          },
          "execution_count": 192
        }
      ]
    },
    {
      "cell_type": "code",
      "metadata": {
        "colab": {
          "base_uri": "https://localhost:8080/",
          "height": 334
        },
        "id": "gBLzeM-n_kpR",
        "outputId": "995f31c4-f1ea-4478-f7c4-d6e142639ec9"
      },
      "source": [
        "#checking sample distribution\n",
        "plt.hist(train_data.F15)"
      ],
      "execution_count": 193,
      "outputs": [
        {
          "output_type": "execute_result",
          "data": {
            "text/plain": [
              "(array([ 22.,  52.,  98., 116., 129., 135., 101.,  69.,  19.,   9.]),\n",
              " array([-8.2  , -7.692, -7.184, -6.676, -6.168, -5.66 , -5.152, -4.644,\n",
              "        -4.136, -3.628, -3.12 ]),\n",
              " <a list of 10 Patch objects>)"
            ]
          },
          "metadata": {
            "tags": []
          },
          "execution_count": 193
        },
        {
          "output_type": "display_data",
          "data": {
            "image/png": "[encoded data removed]",
            "text/plain": [
              "<Figure size 432x288 with 1 Axes>"
            ]
          },
          "metadata": {
            "tags": [],
            "needs_background": "light"
          }
        }
      ]
    },
    {
      "cell_type": "code",
      "metadata": {
        "id": "HyjWhib4_ksS",
        "colab": {
          "base_uri": "https://localhost:8080/",
          "height": 203
        },
        "outputId": "bbdc3487-dbec-416f-858d-5631d2d1688f"
      },
      "source": [
        "#categorical values\n",
        "#replacing False to 0 and True to 1\n",
        "cleanup = {\"Class\": {False:0, True:1}}\n",
        "train_data.replace(cleanup, inplace=True)\n",
        "train_data.head()"
      ],
      "execution_count": 194,
      "outputs": [
        {
          "output_type": "execute_result",
          "data": {
            "text/html": [
              "<div>\n",
              "<style scoped>\n",
              "    .dataframe tbody tr th:only-of-type {\n",
              "        vertical-align: middle;\n",
              "    }\n",
              "\n",
              "    .dataframe tbody tr th {\n",
              "        vertical-align: top;\n",
              "    }\n",
              "\n",
              "    .dataframe thead th {\n",
              "        text-align: right;\n",
              "    }\n",
              "</style>\n",
              "<table border=\"1\" class=\"dataframe\">\n",
              "  <thead>\n",
              "    <tr style=\"text-align: right;\">\n",
              "      <th></th>\n",
              "      <th>F1</th>\n",
              "      <th>F2</th>\n",
              "      <th>F3</th>\n",
              "      <th>F4</th>\n",
              "      <th>F5</th>\n",
              "      <th>F6</th>\n",
              "      <th>F7</th>\n",
              "      <th>F8</th>\n",
              "      <th>F9</th>\n",
              "      <th>F10</th>\n",
              "      <th>F11</th>\n",
              "      <th>F12</th>\n",
              "      <th>F13</th>\n",
              "      <th>F14</th>\n",
              "      <th>F15</th>\n",
              "      <th>Class</th>\n",
              "    </tr>\n",
              "  </thead>\n",
              "  <tbody>\n",
              "    <tr>\n",
              "      <th>0</th>\n",
              "      <td>20</td>\n",
              "      <td>-21.42</td>\n",
              "      <td>13.1</td>\n",
              "      <td>464.04</td>\n",
              "      <td>-6.10</td>\n",
              "      <td>-4.50</td>\n",
              "      <td>-18.66</td>\n",
              "      <td>27.54</td>\n",
              "      <td>20.1</td>\n",
              "      <td>-7.08</td>\n",
              "      <td>-16.32</td>\n",
              "      <td>365</td>\n",
              "      <td>0.47</td>\n",
              "      <td>3.40</td>\n",
              "      <td>-3.90</td>\n",
              "      <td>0</td>\n",
              "    </tr>\n",
              "    <tr>\n",
              "      <th>1</th>\n",
              "      <td>20</td>\n",
              "      <td>-27.12</td>\n",
              "      <td>13.5</td>\n",
              "      <td>299.04</td>\n",
              "      <td>-6.18</td>\n",
              "      <td>-4.91</td>\n",
              "      <td>-18.66</td>\n",
              "      <td>27.44</td>\n",
              "      <td>18.2</td>\n",
              "      <td>-12.84</td>\n",
              "      <td>-11.07</td>\n",
              "      <td>205</td>\n",
              "      <td>-129.53</td>\n",
              "      <td>7.12</td>\n",
              "      <td>NaN</td>\n",
              "      <td>0</td>\n",
              "    </tr>\n",
              "    <tr>\n",
              "      <th>2</th>\n",
              "      <td>20</td>\n",
              "      <td>-33.87</td>\n",
              "      <td>10.5</td>\n",
              "      <td>854.04</td>\n",
              "      <td>-9.32</td>\n",
              "      <td>-7.16</td>\n",
              "      <td>-18.66</td>\n",
              "      <td>25.44</td>\n",
              "      <td>11.9</td>\n",
              "      <td>-5.46</td>\n",
              "      <td>-11.01</td>\n",
              "      <td>330</td>\n",
              "      <td>-44.53</td>\n",
              "      <td>4.62</td>\n",
              "      <td>-3.84</td>\n",
              "      <td>0</td>\n",
              "    </tr>\n",
              "    <tr>\n",
              "      <th>3</th>\n",
              "      <td>20</td>\n",
              "      <td>-25.38</td>\n",
              "      <td>19.4</td>\n",
              "      <td>809.04</td>\n",
              "      <td>-12.69</td>\n",
              "      <td>-4.95</td>\n",
              "      <td>-23.66</td>\n",
              "      <td>25.54</td>\n",
              "      <td>19.6</td>\n",
              "      <td>-11.31</td>\n",
              "      <td>-7.53</td>\n",
              "      <td>215</td>\n",
              "      <td>-54.53</td>\n",
              "      <td>2.26</td>\n",
              "      <td>NaN</td>\n",
              "      <td>0</td>\n",
              "    </tr>\n",
              "    <tr>\n",
              "      <th>4</th>\n",
              "      <td>20</td>\n",
              "      <td>-23.22</td>\n",
              "      <td>16.0</td>\n",
              "      <td>359.04</td>\n",
              "      <td>-7.70</td>\n",
              "      <td>-4.36</td>\n",
              "      <td>-8.66</td>\n",
              "      <td>26.64</td>\n",
              "      <td>25.8</td>\n",
              "      <td>-12.69</td>\n",
              "      <td>-10.20</td>\n",
              "      <td>85</td>\n",
              "      <td>-134.53</td>\n",
              "      <td>-0.20</td>\n",
              "      <td>-7.76</td>\n",
              "      <td>1</td>\n",
              "    </tr>\n",
              "  </tbody>\n",
              "</table>\n",
              "</div>"
            ],
            "text/plain": [
              "   F1     F2    F3      F4     F5    F6  ...    F11  F12     F13   F14   F15  Class\n",
              "0  20 -21.42  13.1  464.04  -6.10 -4.50  ... -16.32  365    0.47  3.40 -3.90      0\n",
              "1  20 -27.12  13.5  299.04  -6.18 -4.91  ... -11.07  205 -129.53  7.12   NaN      0\n",
              "2  20 -33.87  10.5  854.04  -9.32 -7.16  ... -11.01  330  -44.53  4.62 -3.84      0\n",
              "3  20 -25.38  19.4  809.04 -12.69 -4.95  ...  -7.53  215  -54.53  2.26   NaN      0\n",
              "4  20 -23.22  16.0  359.04  -7.70 -4.36  ... -10.20   85 -134.53 -0.20 -7.76      1\n",
              "\n",
              "[5 rows x 16 columns]"
            ]
          },
          "metadata": {
            "tags": []
          },
          "execution_count": 194
        }
      ]
    },
    {
      "cell_type": "code",
      "metadata": {
        "colab": {
          "base_uri": "https://localhost:8080/",
          "height": 299
        },
        "id": "dPhgKRSG_kvS",
        "outputId": "97cf926b-1489-41e7-a3b8-48a1d4ea88ab"
      },
      "source": [
        "#identifying missing value using heatmap\n",
        "sns.heatmap(train_data.isnull(),yticklabels=False,cbar=False,cmap=\"viridis\")"
      ],
      "execution_count": 195,
      "outputs": [
        {
          "output_type": "execute_result",
          "data": {
            "text/plain": [
              "<matplotlib.axes._subplots.AxesSubplot at 0x7f4666232110>"
            ]
          },
          "metadata": {
            "tags": []
          },
          "execution_count": 195
        },
        {
          "output_type": "display_data",
          "data": {
            "image/png": "[encoded data removed]",
            "text/plain": [
              "<Figure size 432x288 with 1 Axes>"
            ]
          },
          "metadata": {
            "tags": [],
            "needs_background": "light"
          }
        }
      ]
    },
    {
      "cell_type": "code",
      "metadata": {
        "colab": {
          "base_uri": "https://localhost:8080/"
        },
        "id": "BMakGxbg_kyK",
        "outputId": "c42befe2-e591-4bd9-fb49-c77d98634211"
      },
      "source": [
        "#treating missing value with mean value\n",
        "train_data=train_data.fillna(train_data.mean())\n",
        "train_data.isnull().sum()"
      ],
      "execution_count": 196,
      "outputs": [
        {
          "output_type": "execute_result",
          "data": {
            "text/plain": [
              "F1       0\n",
              "F2       0\n",
              "F3       0\n",
              "F4       0\n",
              "F5       0\n",
              "F6       0\n",
              "F7       0\n",
              "F8       0\n",
              "F9       0\n",
              "F10      0\n",
              "F11      0\n",
              "F12      0\n",
              "F13      0\n",
              "F14      0\n",
              "F15      0\n",
              "Class    0\n",
              "dtype: int64"
            ]
          },
          "metadata": {
            "tags": []
          },
          "execution_count": 196
        }
      ]
    },
    {
      "cell_type": "markdown",
      "metadata": {
        "id": "ZgGXrzIwCBv9"
      },
      "source": [
        "**Data Splitting into train and test**"
      ]
    },
    {
      "cell_type": "code",
      "metadata": {
        "colab": {
          "base_uri": "https://localhost:8080/",
          "height": 203
        },
        "id": "lSqqhWtt_k1H",
        "outputId": "e6e43abb-55a2-4f93-a4c8-21529974b5ae"
      },
      "source": [
        "#seprating features and target data\n",
        "Input=train_data.iloc[:,0:16]\n",
        "x = Input.values #returns a numpy array\n",
        "min_max_scaler = preprocessing.MinMaxScaler()\n",
        "x_scaled = min_max_scaler.fit_transform(x)\n",
        "train_data = pd.DataFrame(x_scaled)\n",
        "train_data.head()"
      ],
      "execution_count": 197,
      "outputs": [
        {
          "output_type": "execute_result",
          "data": {
            "text/html": [
              "<div>\n",
              "<style scoped>\n",
              "    .dataframe tbody tr th:only-of-type {\n",
              "        vertical-align: middle;\n",
              "    }\n",
              "\n",
              "    .dataframe tbody tr th {\n",
              "        vertical-align: top;\n",
              "    }\n",
              "\n",
              "    .dataframe thead th {\n",
              "        text-align: right;\n",
              "    }\n",
              "</style>\n",
              "<table border=\"1\" class=\"dataframe\">\n",
              "  <thead>\n",
              "    <tr style=\"text-align: right;\">\n",
              "      <th></th>\n",
              "      <th>0</th>\n",
              "      <th>1</th>\n",
              "      <th>2</th>\n",
              "      <th>3</th>\n",
              "      <th>4</th>\n",
              "      <th>5</th>\n",
              "      <th>6</th>\n",
              "      <th>7</th>\n",
              "      <th>8</th>\n",
              "      <th>9</th>\n",
              "      <th>10</th>\n",
              "      <th>11</th>\n",
              "      <th>12</th>\n",
              "      <th>13</th>\n",
              "      <th>14</th>\n",
              "      <th>15</th>\n",
              "    </tr>\n",
              "  </thead>\n",
              "  <tbody>\n",
              "    <tr>\n",
              "      <th>0</th>\n",
              "      <td>1.0</td>\n",
              "      <td>0.901321</td>\n",
              "      <td>0.632850</td>\n",
              "      <td>0.428571</td>\n",
              "      <td>0.874183</td>\n",
              "      <td>0.892498</td>\n",
              "      <td>0.384615</td>\n",
              "      <td>0.635468</td>\n",
              "      <td>0.640127</td>\n",
              "      <td>0.310544</td>\n",
              "      <td>0.425758</td>\n",
              "      <td>0.935897</td>\n",
              "      <td>0.767442</td>\n",
              "      <td>0.284879</td>\n",
              "      <td>0.846457</td>\n",
              "      <td>0.0</td>\n",
              "    </tr>\n",
              "    <tr>\n",
              "      <th>1</th>\n",
              "      <td>1.0</td>\n",
              "      <td>0.753691</td>\n",
              "      <td>0.652174</td>\n",
              "      <td>0.204082</td>\n",
              "      <td>0.867647</td>\n",
              "      <td>0.860789</td>\n",
              "      <td>0.384615</td>\n",
              "      <td>0.630542</td>\n",
              "      <td>0.579618</td>\n",
              "      <td>0.152389</td>\n",
              "      <td>0.690909</td>\n",
              "      <td>0.525641</td>\n",
              "      <td>0.162791</td>\n",
              "      <td>0.420745</td>\n",
              "      <td>0.463974</td>\n",
              "      <td>0.0</td>\n",
              "    </tr>\n",
              "    <tr>\n",
              "      <th>2</th>\n",
              "      <td>1.0</td>\n",
              "      <td>0.578866</td>\n",
              "      <td>0.507246</td>\n",
              "      <td>0.959184</td>\n",
              "      <td>0.611111</td>\n",
              "      <td>0.686775</td>\n",
              "      <td>0.384615</td>\n",
              "      <td>0.532020</td>\n",
              "      <td>0.378981</td>\n",
              "      <td>0.355025</td>\n",
              "      <td>0.693939</td>\n",
              "      <td>0.846154</td>\n",
              "      <td>0.558140</td>\n",
              "      <td>0.329438</td>\n",
              "      <td>0.858268</td>\n",
              "      <td>0.0</td>\n",
              "    </tr>\n",
              "    <tr>\n",
              "      <th>3</th>\n",
              "      <td>1.0</td>\n",
              "      <td>0.798757</td>\n",
              "      <td>0.937198</td>\n",
              "      <td>0.897959</td>\n",
              "      <td>0.335784</td>\n",
              "      <td>0.857695</td>\n",
              "      <td>0.192308</td>\n",
              "      <td>0.536946</td>\n",
              "      <td>0.624204</td>\n",
              "      <td>0.194399</td>\n",
              "      <td>0.869697</td>\n",
              "      <td>0.551282</td>\n",
              "      <td>0.511628</td>\n",
              "      <td>0.243243</td>\n",
              "      <td>0.463974</td>\n",
              "      <td>0.0</td>\n",
              "    </tr>\n",
              "    <tr>\n",
              "      <th>4</th>\n",
              "      <td>1.0</td>\n",
              "      <td>0.854701</td>\n",
              "      <td>0.772947</td>\n",
              "      <td>0.285714</td>\n",
              "      <td>0.743464</td>\n",
              "      <td>0.903326</td>\n",
              "      <td>0.769231</td>\n",
              "      <td>0.591133</td>\n",
              "      <td>0.821656</td>\n",
              "      <td>0.156507</td>\n",
              "      <td>0.734848</td>\n",
              "      <td>0.217949</td>\n",
              "      <td>0.139535</td>\n",
              "      <td>0.153397</td>\n",
              "      <td>0.086614</td>\n",
              "      <td>1.0</td>\n",
              "    </tr>\n",
              "  </tbody>\n",
              "</table>\n",
              "</div>"
            ],
            "text/plain": [
              "    0         1         2         3   ...        12        13        14   15\n",
              "0  1.0  0.901321  0.632850  0.428571  ...  0.767442  0.284879  0.846457  0.0\n",
              "1  1.0  0.753691  0.652174  0.204082  ...  0.162791  0.420745  0.463974  0.0\n",
              "2  1.0  0.578866  0.507246  0.959184  ...  0.558140  0.329438  0.858268  0.0\n",
              "3  1.0  0.798757  0.937198  0.897959  ...  0.511628  0.243243  0.463974  0.0\n",
              "4  1.0  0.854701  0.772947  0.285714  ...  0.139535  0.153397  0.086614  1.0\n",
              "\n",
              "[5 rows x 16 columns]"
            ]
          },
          "metadata": {
            "tags": []
          },
          "execution_count": 197
        }
      ]
    },
    {
      "cell_type": "code",
      "metadata": {
        "id": "C51-ACqWCDrt"
      },
      "source": [
        "#renaming columns of dataset\n",
        "train_data=train_data.rename(columns={0:'F1',1:'F2',2:'F3',3:'F4',4:'F5',5:'F6',6:'F7',7:'F8',8:'F9',9:'F10',10:'F11',11:'F12',12:'F13',13:'F14',14:'F15',15:'Class'})"
      ],
      "execution_count": 198,
      "outputs": []
    },
    {
      "cell_type": "code",
      "metadata": {
        "id": "1aMg2IixCDuZ"
      },
      "source": [
        "from sklearn.model_selection import train_test_split\n",
        "X = train_data.loc[:, train_data.columns != 'Class']\n",
        "y = train_data.loc[:, train_data.columns == 'Class']"
      ],
      "execution_count": 199,
      "outputs": []
    },
    {
      "cell_type": "code",
      "metadata": {
        "id": "cuM5j9XgC-8I"
      },
      "source": [
        "X_train,X_test,y_train,y_test=train_test_split(X,y,test_size=0.25,random_state=0)"
      ],
      "execution_count": 200,
      "outputs": []
    },
    {
      "cell_type": "markdown",
      "metadata": {
        "id": "NKfvGWLLDDnZ"
      },
      "source": [
        "# **Decision Tree Model**"
      ]
    },
    {
      "cell_type": "code",
      "metadata": {
        "colab": {
          "base_uri": "https://localhost:8080/"
        },
        "id": "kncU-wodCDxO",
        "outputId": "8c4c8243-1f61-4bf0-f56f-f0ce4f355ce4"
      },
      "source": [
        "#building Decision Tree classifier model and training \n",
        "from sklearn.tree import DecisionTreeClassifier\n",
        "classifier = DecisionTreeClassifier(criterion='gini')\n",
        "classifier.fit(X_train, y_train)"
      ],
      "execution_count": 201,
      "outputs": [
        {
          "output_type": "execute_result",
          "data": {
            "text/plain": [
              "DecisionTreeClassifier(ccp_alpha=0.0, class_weight=None, criterion='gini',\n",
              "                       max_depth=None, max_features=None, max_leaf_nodes=None,\n",
              "                       min_impurity_decrease=0.0, min_impurity_split=None,\n",
              "                       min_samples_leaf=1, min_samples_split=2,\n",
              "                       min_weight_fraction_leaf=0.0, presort='deprecated',\n",
              "                       random_state=None, splitter='best')"
            ]
          },
          "metadata": {
            "tags": []
          },
          "execution_count": 201
        }
      ]
    },
    {
      "cell_type": "code",
      "metadata": {
        "id": "vd7FYeAxCD0L"
      },
      "source": [
        "#prediction\n",
        "y_pred = classifier.predict(X_test)"
      ],
      "execution_count": 202,
      "outputs": []
    },
    {
      "cell_type": "code",
      "metadata": {
        "colab": {
          "base_uri": "https://localhost:8080/"
        },
        "id": "n08rGgv4CD2_",
        "outputId": "06f098a4-a428-4819-f187-19f7230d5a35"
      },
      "source": [
        "#Confusion matrix and classification report\n",
        "from sklearn.metrics import classification_report, confusion_matrix,plot_confusion_matrix\n",
        "print(confusion_matrix(y_test, y_pred))\n",
        "print(classification_report(y_test, y_pred))"
      ],
      "execution_count": 203,
      "outputs": [
        {
          "output_type": "stream",
          "text": [
            "[[171  41]\n",
            " [ 36 127]]\n",
            "              precision    recall  f1-score   support\n",
            "\n",
            "         0.0       0.83      0.81      0.82       212\n",
            "         1.0       0.76      0.78      0.77       163\n",
            "\n",
            "    accuracy                           0.79       375\n",
            "   macro avg       0.79      0.79      0.79       375\n",
            "weighted avg       0.80      0.79      0.79       375\n",
            "\n"
          ],
          "name": "stdout"
        }
      ]
    },
    {
      "cell_type": "code",
      "metadata": {
        "colab": {
          "base_uri": "https://localhost:8080/",
          "height": 279
        },
        "id": "WN-RnzA6CD5_",
        "outputId": "39b36755-90b6-4f6b-e273-1be7022a0188"
      },
      "source": [
        "#plotting Confusion matrix\n",
        "plot_confusion_matrix(classifier, X_test, y_test)  \n",
        "plt.show()"
      ],
      "execution_count": 204,
      "outputs": [
        {
          "output_type": "display_data",
          "data": {
            "image/png": "[encoded data removed]",
            "text/plain": [
              "<Figure size 432x288 with 2 Axes>"
            ]
          },
          "metadata": {
            "tags": [],
            "needs_background": "light"
          }
        }
      ]
    },
    {
      "cell_type": "code",
      "metadata": {
        "colab": {
          "base_uri": "https://localhost:8080/"
        },
        "id": "b4ng5U3a_cPp",
        "outputId": "37e3185d-ed9e-4317-e6c0-3fabbc6a8c1d"
      },
      "source": [
        "from sklearn.metrics import accuracy_score\n",
        "accuracy_score(y_test, y_pred)"
      ],
      "execution_count": 205,
      "outputs": [
        {
          "output_type": "execute_result",
          "data": {
            "text/plain": [
              "0.7946666666666666"
            ]
          },
          "metadata": {
            "tags": []
          },
          "execution_count": 205
        }
      ]
    },
    {
      "cell_type": "markdown",
      "metadata": {
        "id": "lqpYl-wHEmXj"
      },
      "source": [
        "# **Random forest classifier**"
      ]
    },
    {
      "cell_type": "code",
      "metadata": {
        "colab": {
          "base_uri": "https://localhost:8080/"
        },
        "id": "BRDpPbrRCD8w",
        "outputId": "5d66faaf-31b3-4245-d6b6-510c15dc6608"
      },
      "source": [
        "#Building and training Random forest classifier\n",
        "from sklearn.ensemble import RandomForestClassifier\n",
        "clf = RandomForestClassifier(n_estimators=150,max_depth=2, random_state=0)\n",
        "clf.fit(X_train, y_train)"
      ],
      "execution_count": 206,
      "outputs": [
        {
          "output_type": "stream",
          "text": [
            "/usr/local/lib/python3.7/dist-packages/ipykernel_launcher.py:4: DataConversionWarning: A column-vector y was passed when a 1d array was expected. Please change the shape of y to (n_samples,), for example using ravel().\n",
            "  after removing the cwd from sys.path.\n"
          ],
          "name": "stderr"
        },
        {
          "output_type": "execute_result",
          "data": {
            "text/plain": [
              "RandomForestClassifier(bootstrap=True, ccp_alpha=0.0, class_weight=None,\n",
              "                       criterion='gini', max_depth=2, max_features='auto',\n",
              "                       max_leaf_nodes=None, max_samples=None,\n",
              "                       min_impurity_decrease=0.0, min_impurity_split=None,\n",
              "                       min_samples_leaf=1, min_samples_split=2,\n",
              "                       min_weight_fraction_leaf=0.0, n_estimators=150,\n",
              "                       n_jobs=None, oob_score=False, random_state=0, verbose=0,\n",
              "                       warm_start=False)"
            ]
          },
          "metadata": {
            "tags": []
          },
          "execution_count": 206
        }
      ]
    },
    {
      "cell_type": "code",
      "metadata": {
        "colab": {
          "base_uri": "https://localhost:8080/"
        },
        "id": "DZ4geykeCD_v",
        "outputId": "500ede97-17ca-46d9-9cca-399b97a67c1c"
      },
      "source": [
        "#prediction\n",
        "clf.predict(X_test)"
      ],
      "execution_count": 207,
      "outputs": [
        {
          "output_type": "execute_result",
          "data": {
            "text/plain": [
              "array([1., 1., 0., 0., 0., 1., 0., 1., 1., 0., 0., 0., 1., 1., 1., 0., 1.,\n",
              "       0., 0., 1., 0., 0., 0., 0., 0., 1., 1., 1., 0., 0., 0., 1., 1., 1.,\n",
              "       0., 1., 0., 1., 1., 1., 1., 1., 1., 0., 0., 0., 1., 1., 0., 1., 1.,\n",
              "       0., 1., 0., 0., 1., 1., 0., 1., 1., 1., 0., 0., 0., 1., 1., 1., 0.,\n",
              "       0., 1., 1., 0., 1., 0., 1., 1., 1., 1., 1., 1., 1., 0., 0., 0., 1.,\n",
              "       0., 0., 0., 1., 1., 0., 0., 1., 1., 0., 0., 1., 0., 1., 0., 0., 1.,\n",
              "       0., 0., 0., 1., 0., 1., 0., 0., 0., 1., 0., 1., 0., 0., 1., 0., 0.,\n",
              "       1., 0., 1., 0., 1., 0., 1., 0., 0., 1., 1., 0., 1., 1., 1., 0., 0.,\n",
              "       1., 0., 1., 0., 0., 0., 1., 1., 1., 0., 0., 1., 1., 1., 1., 1., 0.,\n",
              "       0., 0., 1., 1., 0., 0., 1., 1., 0., 1., 0., 0., 0., 0., 0., 1., 0.,\n",
              "       0., 0., 0., 0., 1., 0., 1., 0., 0., 1., 0., 0., 0., 0., 0., 0., 0.,\n",
              "       0., 0., 1., 0., 1., 1., 1., 0., 1., 1., 0., 0., 1., 1., 0., 1., 0.,\n",
              "       0., 0., 0., 0., 0., 1., 0., 1., 0., 0., 1., 1., 0., 1., 0., 1., 1.,\n",
              "       0., 1., 0., 0., 0., 0., 0., 0., 1., 1., 0., 1., 1., 0., 1., 0., 0.,\n",
              "       1., 0., 0., 1., 0., 1., 0., 0., 1., 1., 0., 1., 0., 1., 0., 0., 1.,\n",
              "       0., 1., 1., 1., 1., 1., 0., 1., 0., 1., 0., 1., 1., 1., 1., 0., 0.,\n",
              "       0., 1., 0., 1., 0., 0., 0., 0., 0., 1., 1., 0., 0., 0., 0., 0., 1.,\n",
              "       0., 1., 1., 0., 1., 0., 1., 0., 1., 0., 1., 1., 0., 0., 1., 0., 1.,\n",
              "       0., 1., 0., 0., 1., 1., 0., 0., 0., 1., 1., 0., 0., 0., 0., 0., 0.,\n",
              "       1., 1., 1., 1., 0., 1., 1., 1., 1., 1., 1., 0., 0., 0., 0., 0., 1.,\n",
              "       1., 0., 0., 1., 1., 0., 0., 1., 1., 0., 0., 0., 1., 1., 1., 1., 0.,\n",
              "       1., 0., 0., 0., 1., 1., 1., 0., 0., 1., 1., 0., 0., 0., 1., 0., 1.,\n",
              "       1.])"
            ]
          },
          "metadata": {
            "tags": []
          },
          "execution_count": 207
        }
      ]
    },
    {
      "cell_type": "code",
      "metadata": {
        "colab": {
          "base_uri": "https://localhost:8080/"
        },
        "id": "zwaL_zGvEqlL",
        "outputId": "eb29d4e0-0aca-427d-c793-2abe3c410be2"
      },
      "source": [
        "#classification_report\n",
        "from sklearn.metrics import classification_report, confusion_matrix,plot_confusion_matrix\n",
        "print(classification_report(y_test,y_pred))"
      ],
      "execution_count": 208,
      "outputs": [
        {
          "output_type": "stream",
          "text": [
            "              precision    recall  f1-score   support\n",
            "\n",
            "         0.0       0.83      0.81      0.82       212\n",
            "         1.0       0.76      0.78      0.77       163\n",
            "\n",
            "    accuracy                           0.79       375\n",
            "   macro avg       0.79      0.79      0.79       375\n",
            "weighted avg       0.80      0.79      0.79       375\n",
            "\n"
          ],
          "name": "stdout"
        }
      ]
    },
    {
      "cell_type": "code",
      "metadata": {
        "colab": {
          "base_uri": "https://localhost:8080/",
          "height": 279
        },
        "id": "0xtCZgJiEqoK",
        "outputId": "689230ba-84c4-412f-dd94-ca33b2744062"
      },
      "source": [
        "#plotting confusion matrix\n",
        "plot_confusion_matrix(clf, X_test, y_test)  \n",
        "plt.show()"
      ],
      "execution_count": 209,
      "outputs": [
        {
          "output_type": "display_data",
          "data": {
            "image/png": "[encoded data removed]",
            "text/plain": [
              "<Figure size 432x288 with 2 Axes>"
            ]
          },
          "metadata": {
            "tags": [],
            "needs_background": "light"
          }
        }
      ]
    },
    {
      "cell_type": "code",
      "metadata": {
        "colab": {
          "base_uri": "https://localhost:8080/"
        },
        "id": "jBG8eF4NAIkF",
        "outputId": "39cd14dd-a94d-4589-9d01-dcfdc9c6724f"
      },
      "source": [
        "from sklearn.metrics import accuracy_score\n",
        "accuracy_score(y_test, y_pred)"
      ],
      "execution_count": 210,
      "outputs": [
        {
          "output_type": "execute_result",
          "data": {
            "text/plain": [
              "0.7946666666666666"
            ]
          },
          "metadata": {
            "tags": []
          },
          "execution_count": 210
        }
      ]
    },
    {
      "cell_type": "markdown",
      "metadata": {
        "id": "zEFBfP3aFGku"
      },
      "source": [
        "# **SVM**"
      ]
    },
    {
      "cell_type": "code",
      "metadata": {
        "colab": {
          "base_uri": "https://localhost:8080/"
        },
        "id": "R-23XGxIFFvg",
        "outputId": "2d5ae9c4-8121-4605-d67b-6e41265da186"
      },
      "source": [
        "#Bulding and training SVM model\n",
        "from sklearn.svm import SVC\n",
        "svclassifier = SVC(kernel='rbf',C=125)\n",
        "svclassifier.fit(X_train, y_train)"
      ],
      "execution_count": 211,
      "outputs": [
        {
          "output_type": "stream",
          "text": [
            "/usr/local/lib/python3.7/dist-packages/sklearn/utils/validation.py:760: DataConversionWarning: A column-vector y was passed when a 1d array was expected. Please change the shape of y to (n_samples, ), for example using ravel().\n",
            "  y = column_or_1d(y, warn=True)\n"
          ],
          "name": "stderr"
        },
        {
          "output_type": "execute_result",
          "data": {
            "text/plain": [
              "SVC(C=125, break_ties=False, cache_size=200, class_weight=None, coef0=0.0,\n",
              "    decision_function_shape='ovr', degree=3, gamma='scale', kernel='rbf',\n",
              "    max_iter=-1, probability=False, random_state=None, shrinking=True,\n",
              "    tol=0.001, verbose=False)"
            ]
          },
          "metadata": {
            "tags": []
          },
          "execution_count": 211
        }
      ]
    },
    {
      "cell_type": "code",
      "metadata": {
        "id": "D7Kzm3blEqqw"
      },
      "source": [
        "#predicting test data\n",
        "y_pred = svclassifier.predict(X_test)"
      ],
      "execution_count": 212,
      "outputs": []
    },
    {
      "cell_type": "code",
      "metadata": {
        "colab": {
          "base_uri": "https://localhost:8080/"
        },
        "id": "FoZdI04REqtp",
        "outputId": "ff5d41a7-459a-49d8-a52d-c6b55dd11f67"
      },
      "source": [
        "#classification_report and confusion_matrix\n",
        "from sklearn.metrics import classification_report, confusion_matrix\n",
        "print(confusion_matrix(y_test,y_pred))\n",
        "print(classification_report(y_test,y_pred))"
      ],
      "execution_count": 213,
      "outputs": [
        {
          "output_type": "stream",
          "text": [
            "[[200  12]\n",
            " [ 24 139]]\n",
            "              precision    recall  f1-score   support\n",
            "\n",
            "         0.0       0.89      0.94      0.92       212\n",
            "         1.0       0.92      0.85      0.89       163\n",
            "\n",
            "    accuracy                           0.90       375\n",
            "   macro avg       0.91      0.90      0.90       375\n",
            "weighted avg       0.90      0.90      0.90       375\n",
            "\n"
          ],
          "name": "stdout"
        }
      ]
    },
    {
      "cell_type": "code",
      "metadata": {
        "colab": {
          "base_uri": "https://localhost:8080/",
          "height": 283
        },
        "id": "jKkqM4ygEqwW",
        "outputId": "e598c635-4ec2-414b-dbf1-491dda3068e5"
      },
      "source": [
        "#plotting Confusion matrix\n",
        "plot_confusion_matrix(svclassifier, X_test, y_test)  \n",
        "plt.show()"
      ],
      "execution_count": 214,
      "outputs": [
        {
          "output_type": "display_data",
          "data": {
            "image/png": "[encoded data removed]",
            "text/plain": [
              "<Figure size 432x288 with 2 Axes>"
            ]
          },
          "metadata": {
            "tags": [],
            "needs_background": "light"
          }
        }
      ]
    },
    {
      "cell_type": "code",
      "metadata": {
        "colab": {
          "base_uri": "https://localhost:8080/"
        },
        "id": "lQOqe6RHALOe",
        "outputId": "c1041d6c-9c26-47cb-cda3-a7e54905fde4"
      },
      "source": [
        "from sklearn.metrics import accuracy_score\n",
        "accuracy_score(y_test, y_pred)"
      ],
      "execution_count": 215,
      "outputs": [
        {
          "output_type": "execute_result",
          "data": {
            "text/plain": [
              "0.904"
            ]
          },
          "metadata": {
            "tags": []
          },
          "execution_count": 215
        }
      ]
    },
    {
      "cell_type": "markdown",
      "metadata": {
        "id": "W7wo-t39N-ZS"
      },
      "source": [
        "# **P2 Test DataSet**"
      ]
    },
    {
      "cell_type": "code",
      "metadata": {
        "id": "Ey12hgMfEqzp"
      },
      "source": [
        "#Loading test dataset\n",
        "test_data=pd.read_csv(\"/content/drive/My Drive/CE802/CE802_P2_Test.csv\",sep=',')"
      ],
      "execution_count": 216,
      "outputs": []
    },
    {
      "cell_type": "code",
      "metadata": {
        "id": "na1x7_WAFaCe",
        "colab": {
          "base_uri": "https://localhost:8080/",
          "height": 315
        },
        "outputId": "4a87ee43-1fe9-4d81-a60f-1fb7ef2a7ad3"
      },
      "source": [
        "#Checking test dataset\n",
        "test_data.describe()"
      ],
      "execution_count": 217,
      "outputs": [
        {
          "output_type": "execute_result",
          "data": {
            "text/html": [
              "<div>\n",
              "<style scoped>\n",
              "    .dataframe tbody tr th:only-of-type {\n",
              "        vertical-align: middle;\n",
              "    }\n",
              "\n",
              "    .dataframe tbody tr th {\n",
              "        vertical-align: top;\n",
              "    }\n",
              "\n",
              "    .dataframe thead th {\n",
              "        text-align: right;\n",
              "    }\n",
              "</style>\n",
              "<table border=\"1\" class=\"dataframe\">\n",
              "  <thead>\n",
              "    <tr style=\"text-align: right;\">\n",
              "      <th></th>\n",
              "      <th>F1</th>\n",
              "      <th>F2</th>\n",
              "      <th>F3</th>\n",
              "      <th>F4</th>\n",
              "      <th>F5</th>\n",
              "      <th>F6</th>\n",
              "      <th>F7</th>\n",
              "      <th>F8</th>\n",
              "      <th>F9</th>\n",
              "      <th>F10</th>\n",
              "      <th>F11</th>\n",
              "      <th>F12</th>\n",
              "      <th>F13</th>\n",
              "      <th>F14</th>\n",
              "      <th>F15</th>\n",
              "    </tr>\n",
              "  </thead>\n",
              "  <tbody>\n",
              "    <tr>\n",
              "      <th>count</th>\n",
              "      <td>1500.000000</td>\n",
              "      <td>1500.000000</td>\n",
              "      <td>1500.000000</td>\n",
              "      <td>1500.000000</td>\n",
              "      <td>1500.000000</td>\n",
              "      <td>1500.000000</td>\n",
              "      <td>1500.000000</td>\n",
              "      <td>1500.000000</td>\n",
              "      <td>1500.000000</td>\n",
              "      <td>1500.000000</td>\n",
              "      <td>1500.000000</td>\n",
              "      <td>1500.000000</td>\n",
              "      <td>1500.000000</td>\n",
              "      <td>1500.000000</td>\n",
              "      <td>750.000000</td>\n",
              "    </tr>\n",
              "    <tr>\n",
              "      <th>mean</th>\n",
              "      <td>11.025333</td>\n",
              "      <td>-30.832520</td>\n",
              "      <td>7.790587</td>\n",
              "      <td>379.762000</td>\n",
              "      <td>-8.869147</td>\n",
              "      <td>-7.616707</td>\n",
              "      <td>-11.304000</td>\n",
              "      <td>22.274107</td>\n",
              "      <td>10.202187</td>\n",
              "      <td>-5.110020</td>\n",
              "      <td>-12.368500</td>\n",
              "      <td>109.298667</td>\n",
              "      <td>-66.260000</td>\n",
              "      <td>4.654827</td>\n",
              "      <td>-5.876347</td>\n",
              "    </tr>\n",
              "    <tr>\n",
              "      <th>std</th>\n",
              "      <td>9.014814</td>\n",
              "      <td>7.602147</td>\n",
              "      <td>6.876599</td>\n",
              "      <td>205.995257</td>\n",
              "      <td>2.528747</td>\n",
              "      <td>2.564617</td>\n",
              "      <td>7.073138</td>\n",
              "      <td>6.476781</td>\n",
              "      <td>8.611866</td>\n",
              "      <td>7.478681</td>\n",
              "      <td>3.604796</td>\n",
              "      <td>116.145702</td>\n",
              "      <td>41.372078</td>\n",
              "      <td>5.022442</td>\n",
              "      <td>1.014522</td>\n",
              "    </tr>\n",
              "    <tr>\n",
              "      <th>min</th>\n",
              "      <td>0.000000</td>\n",
              "      <td>-56.370000</td>\n",
              "      <td>0.000000</td>\n",
              "      <td>134.040000</td>\n",
              "      <td>-16.980000</td>\n",
              "      <td>-14.990000</td>\n",
              "      <td>-28.660000</td>\n",
              "      <td>14.700000</td>\n",
              "      <td>0.020000</td>\n",
              "      <td>-19.410000</td>\n",
              "      <td>-27.150000</td>\n",
              "      <td>0.000000</td>\n",
              "      <td>-164.530000</td>\n",
              "      <td>-4.200000</td>\n",
              "      <td>-9.340000</td>\n",
              "    </tr>\n",
              "    <tr>\n",
              "      <th>25%</th>\n",
              "      <td>2.000000</td>\n",
              "      <td>-36.540000</td>\n",
              "      <td>1.240000</td>\n",
              "      <td>221.040000</td>\n",
              "      <td>-10.810000</td>\n",
              "      <td>-9.542500</td>\n",
              "      <td>-18.660000</td>\n",
              "      <td>16.080000</td>\n",
              "      <td>2.595000</td>\n",
              "      <td>-12.225000</td>\n",
              "      <td>-14.317500</td>\n",
              "      <td>19.000000</td>\n",
              "      <td>-84.530000</td>\n",
              "      <td>-0.260000</td>\n",
              "      <td>-6.620000</td>\n",
              "    </tr>\n",
              "    <tr>\n",
              "      <th>50%</th>\n",
              "      <td>20.000000</td>\n",
              "      <td>-33.765000</td>\n",
              "      <td>10.100000</td>\n",
              "      <td>278.040000</td>\n",
              "      <td>-9.900000</td>\n",
              "      <td>-8.610000</td>\n",
              "      <td>-8.660000</td>\n",
              "      <td>24.540000</td>\n",
              "      <td>10.200000</td>\n",
              "      <td>-2.025000</td>\n",
              "      <td>-11.850000</td>\n",
              "      <td>54.000000</td>\n",
              "      <td>-59.530000</td>\n",
              "      <td>6.560000</td>\n",
              "      <td>-5.875000</td>\n",
              "    </tr>\n",
              "    <tr>\n",
              "      <th>75%</th>\n",
              "      <td>20.000000</td>\n",
              "      <td>-23.430000</td>\n",
              "      <td>14.000000</td>\n",
              "      <td>539.040000</td>\n",
              "      <td>-6.470000</td>\n",
              "      <td>-5.170000</td>\n",
              "      <td>-5.660000</td>\n",
              "      <td>28.040000</td>\n",
              "      <td>16.900000</td>\n",
              "      <td>0.600000</td>\n",
              "      <td>-10.102500</td>\n",
              "      <td>195.000000</td>\n",
              "      <td>-46.530000</td>\n",
              "      <td>8.365000</td>\n",
              "      <td>-5.142500</td>\n",
              "    </tr>\n",
              "    <tr>\n",
              "      <th>max</th>\n",
              "      <td>20.000000</td>\n",
              "      <td>-17.490000</td>\n",
              "      <td>20.600000</td>\n",
              "      <td>884.040000</td>\n",
              "      <td>-4.500000</td>\n",
              "      <td>-3.200000</td>\n",
              "      <td>-2.660000</td>\n",
              "      <td>35.640000</td>\n",
              "      <td>31.500000</td>\n",
              "      <td>16.020000</td>\n",
              "      <td>-5.220000</td>\n",
              "      <td>400.000000</td>\n",
              "      <td>45.470000</td>\n",
              "      <td>20.460000</td>\n",
              "      <td>-2.950000</td>\n",
              "    </tr>\n",
              "  </tbody>\n",
              "</table>\n",
              "</div>"
            ],
            "text/plain": [
              "                F1           F2  ...          F14         F15\n",
              "count  1500.000000  1500.000000  ...  1500.000000  750.000000\n",
              "mean     11.025333   -30.832520  ...     4.654827   -5.876347\n",
              "std       9.014814     7.602147  ...     5.022442    1.014522\n",
              "min       0.000000   -56.370000  ...    -4.200000   -9.340000\n",
              "25%       2.000000   -36.540000  ...    -0.260000   -6.620000\n",
              "50%      20.000000   -33.765000  ...     6.560000   -5.875000\n",
              "75%      20.000000   -23.430000  ...     8.365000   -5.142500\n",
              "max      20.000000   -17.490000  ...    20.460000   -2.950000\n",
              "\n",
              "[8 rows x 15 columns]"
            ]
          },
          "metadata": {
            "tags": []
          },
          "execution_count": 217
        }
      ]
    },
    {
      "cell_type": "code",
      "metadata": {
        "id": "9JZ6o8dsFaFY",
        "colab": {
          "base_uri": "https://localhost:8080/"
        },
        "outputId": "93d5f468-03ae-4e30-f133-1b0a49668502"
      },
      "source": [
        "#Checking unique data\n",
        "test_data.nunique()"
      ],
      "execution_count": 218,
      "outputs": [
        {
          "output_type": "execute_result",
          "data": {
            "text/plain": [
              "F1         4\n",
              "F2       653\n",
              "F3       213\n",
              "F4        93\n",
              "F5       640\n",
              "F6       667\n",
              "F7        11\n",
              "F8       215\n",
              "F9       397\n",
              "F10      645\n",
              "F11      471\n",
              "F12      139\n",
              "F13       77\n",
              "F14      638\n",
              "F15      339\n",
              "Class      2\n",
              "dtype: int64"
            ]
          },
          "metadata": {
            "tags": []
          },
          "execution_count": 218
        }
      ]
    },
    {
      "cell_type": "code",
      "metadata": {
        "id": "7LrD4P3fFaIb",
        "colab": {
          "base_uri": "https://localhost:8080/",
          "height": 299
        },
        "outputId": "8b465c79-73dd-4fe7-add5-576812313747"
      },
      "source": [
        "#Checking unique data using heatmap\n",
        "sns.heatmap(test_data.isnull(),yticklabels=False,cbar=False,cmap=\"viridis\")"
      ],
      "execution_count": 219,
      "outputs": [
        {
          "output_type": "execute_result",
          "data": {
            "text/plain": [
              "<matplotlib.axes._subplots.AxesSubplot at 0x7f46660e9190>"
            ]
          },
          "metadata": {
            "tags": []
          },
          "execution_count": 219
        },
        {
          "output_type": "display_data",
          "data": {
            "image/png": "[encoded data removed]",
            "text/plain": [
              "<Figure size 432x288 with 1 Axes>"
            ]
          },
          "metadata": {
            "tags": [],
            "needs_background": "light"
          }
        }
      ]
    },
    {
      "cell_type": "code",
      "metadata": {
        "id": "dnLXhYovFaLp",
        "colab": {
          "base_uri": "https://localhost:8080/"
        },
        "outputId": "e0613dce-cae4-4190-9b15-e7c9e0c7b406"
      },
      "source": [
        "#treating missing values with mean value\n",
        "test_data=test_data.fillna(data.mean())\n",
        "test_data.isnull().sum()"
      ],
      "execution_count": 220,
      "outputs": [
        {
          "output_type": "execute_result",
          "data": {
            "text/plain": [
              "F1       0\n",
              "F2       0\n",
              "F3       0\n",
              "F4       0\n",
              "F5       0\n",
              "F6       0\n",
              "F7       0\n",
              "F8       0\n",
              "F9       0\n",
              "F10      0\n",
              "F11      0\n",
              "F12      0\n",
              "F13      0\n",
              "F14      0\n",
              "F15      0\n",
              "Class    0\n",
              "dtype: int64"
            ]
          },
          "metadata": {
            "tags": []
          },
          "execution_count": 220
        }
      ]
    },
    {
      "cell_type": "code",
      "metadata": {
        "id": "3G4U_MgJFaPI",
        "colab": {
          "base_uri": "https://localhost:8080/",
          "height": 417
        },
        "outputId": "29ffd01b-806f-42ff-9180-a27401710f00"
      },
      "source": [
        "#dropping Column 'class'\n",
        "test_data.drop(\"Class\",axis=1)"
      ],
      "execution_count": 221,
      "outputs": [
        {
          "output_type": "execute_result",
          "data": {
            "text/html": [
              "<div>\n",
              "<style scoped>\n",
              "    .dataframe tbody tr th:only-of-type {\n",
              "        vertical-align: middle;\n",
              "    }\n",
              "\n",
              "    .dataframe tbody tr th {\n",
              "        vertical-align: top;\n",
              "    }\n",
              "\n",
              "    .dataframe thead th {\n",
              "        text-align: right;\n",
              "    }\n",
              "</style>\n",
              "<table border=\"1\" class=\"dataframe\">\n",
              "  <thead>\n",
              "    <tr style=\"text-align: right;\">\n",
              "      <th></th>\n",
              "      <th>F1</th>\n",
              "      <th>F2</th>\n",
              "      <th>F3</th>\n",
              "      <th>F4</th>\n",
              "      <th>F5</th>\n",
              "      <th>F6</th>\n",
              "      <th>F7</th>\n",
              "      <th>F8</th>\n",
              "      <th>F9</th>\n",
              "      <th>F10</th>\n",
              "      <th>F11</th>\n",
              "      <th>F12</th>\n",
              "      <th>F13</th>\n",
              "      <th>F14</th>\n",
              "      <th>F15</th>\n",
              "    </tr>\n",
              "  </thead>\n",
              "  <tbody>\n",
              "    <tr>\n",
              "      <th>0</th>\n",
              "      <td>2</td>\n",
              "      <td>-38.31</td>\n",
              "      <td>1.62</td>\n",
              "      <td>248.04</td>\n",
              "      <td>-11.74</td>\n",
              "      <td>-9.25</td>\n",
              "      <td>-5.66</td>\n",
              "      <td>16.40</td>\n",
              "      <td>2.92</td>\n",
              "      <td>1.17</td>\n",
              "      <td>-13.14</td>\n",
              "      <td>2</td>\n",
              "      <td>-74.53</td>\n",
              "      <td>9.18</td>\n",
              "      <td>0.463974</td>\n",
              "    </tr>\n",
              "    <tr>\n",
              "      <th>1</th>\n",
              "      <td>20</td>\n",
              "      <td>-24.03</td>\n",
              "      <td>11.40</td>\n",
              "      <td>629.04</td>\n",
              "      <td>-8.02</td>\n",
              "      <td>-5.35</td>\n",
              "      <td>-28.66</td>\n",
              "      <td>27.14</td>\n",
              "      <td>16.70</td>\n",
              "      <td>-10.56</td>\n",
              "      <td>-8.67</td>\n",
              "      <td>15</td>\n",
              "      <td>-14.53</td>\n",
              "      <td>2.06</td>\n",
              "      <td>0.463974</td>\n",
              "    </tr>\n",
              "    <tr>\n",
              "      <th>2</th>\n",
              "      <td>2</td>\n",
              "      <td>-45.06</td>\n",
              "      <td>1.84</td>\n",
              "      <td>206.04</td>\n",
              "      <td>-11.73</td>\n",
              "      <td>-9.28</td>\n",
              "      <td>-7.66</td>\n",
              "      <td>15.94</td>\n",
              "      <td>1.70</td>\n",
              "      <td>-1.77</td>\n",
              "      <td>-20.37</td>\n",
              "      <td>3</td>\n",
              "      <td>-40.53</td>\n",
              "      <td>7.12</td>\n",
              "      <td>0.463974</td>\n",
              "    </tr>\n",
              "    <tr>\n",
              "      <th>3</th>\n",
              "      <td>20</td>\n",
              "      <td>-22.35</td>\n",
              "      <td>18.30</td>\n",
              "      <td>539.04</td>\n",
              "      <td>-7.14</td>\n",
              "      <td>-4.15</td>\n",
              "      <td>-28.66</td>\n",
              "      <td>27.14</td>\n",
              "      <td>11.70</td>\n",
              "      <td>-14.97</td>\n",
              "      <td>-8.55</td>\n",
              "      <td>195</td>\n",
              "      <td>-29.53</td>\n",
              "      <td>1.46</td>\n",
              "      <td>-6.930000</td>\n",
              "    </tr>\n",
              "    <tr>\n",
              "      <th>4</th>\n",
              "      <td>20</td>\n",
              "      <td>-22.47</td>\n",
              "      <td>10.70</td>\n",
              "      <td>749.04</td>\n",
              "      <td>-7.13</td>\n",
              "      <td>-4.60</td>\n",
              "      <td>-8.66</td>\n",
              "      <td>35.14</td>\n",
              "      <td>28.70</td>\n",
              "      <td>-12.33</td>\n",
              "      <td>-10.47</td>\n",
              "      <td>285</td>\n",
              "      <td>-74.53</td>\n",
              "      <td>-1.74</td>\n",
              "      <td>0.463974</td>\n",
              "    </tr>\n",
              "    <tr>\n",
              "      <th>...</th>\n",
              "      <td>...</td>\n",
              "      <td>...</td>\n",
              "      <td>...</td>\n",
              "      <td>...</td>\n",
              "      <td>...</td>\n",
              "      <td>...</td>\n",
              "      <td>...</td>\n",
              "      <td>...</td>\n",
              "      <td>...</td>\n",
              "      <td>...</td>\n",
              "      <td>...</td>\n",
              "      <td>...</td>\n",
              "      <td>...</td>\n",
              "      <td>...</td>\n",
              "      <td>...</td>\n",
              "    </tr>\n",
              "    <tr>\n",
              "      <th>1495</th>\n",
              "      <td>20</td>\n",
              "      <td>-22.80</td>\n",
              "      <td>14.80</td>\n",
              "      <td>329.04</td>\n",
              "      <td>-5.88</td>\n",
              "      <td>-4.92</td>\n",
              "      <td>-18.66</td>\n",
              "      <td>25.34</td>\n",
              "      <td>13.70</td>\n",
              "      <td>-14.28</td>\n",
              "      <td>-10.98</td>\n",
              "      <td>195</td>\n",
              "      <td>-29.53</td>\n",
              "      <td>3.28</td>\n",
              "      <td>0.463974</td>\n",
              "    </tr>\n",
              "    <tr>\n",
              "      <th>1496</th>\n",
              "      <td>2</td>\n",
              "      <td>-37.11</td>\n",
              "      <td>1.48</td>\n",
              "      <td>239.04</td>\n",
              "      <td>-14.27</td>\n",
              "      <td>-10.03</td>\n",
              "      <td>-3.66</td>\n",
              "      <td>16.34</td>\n",
              "      <td>3.02</td>\n",
              "      <td>-1.08</td>\n",
              "      <td>-11.28</td>\n",
              "      <td>20</td>\n",
              "      <td>-75.53</td>\n",
              "      <td>10.10</td>\n",
              "      <td>0.463974</td>\n",
              "    </tr>\n",
              "    <tr>\n",
              "      <th>1497</th>\n",
              "      <td>2</td>\n",
              "      <td>-35.67</td>\n",
              "      <td>0.20</td>\n",
              "      <td>200.04</td>\n",
              "      <td>-10.59</td>\n",
              "      <td>-12.15</td>\n",
              "      <td>-7.66</td>\n",
              "      <td>16.42</td>\n",
              "      <td>1.92</td>\n",
              "      <td>-1.08</td>\n",
              "      <td>-9.57</td>\n",
              "      <td>20</td>\n",
              "      <td>-46.53</td>\n",
              "      <td>10.46</td>\n",
              "      <td>0.463974</td>\n",
              "    </tr>\n",
              "    <tr>\n",
              "      <th>1498</th>\n",
              "      <td>2</td>\n",
              "      <td>-36.21</td>\n",
              "      <td>1.62</td>\n",
              "      <td>275.04</td>\n",
              "      <td>-11.82</td>\n",
              "      <td>-8.89</td>\n",
              "      <td>-5.66</td>\n",
              "      <td>16.64</td>\n",
              "      <td>1.82</td>\n",
              "      <td>0.36</td>\n",
              "      <td>-11.22</td>\n",
              "      <td>6</td>\n",
              "      <td>-60.53</td>\n",
              "      <td>9.24</td>\n",
              "      <td>0.463974</td>\n",
              "    </tr>\n",
              "    <tr>\n",
              "      <th>1499</th>\n",
              "      <td>20</td>\n",
              "      <td>-19.83</td>\n",
              "      <td>17.10</td>\n",
              "      <td>659.04</td>\n",
              "      <td>-6.62</td>\n",
              "      <td>-5.59</td>\n",
              "      <td>-18.66</td>\n",
              "      <td>28.94</td>\n",
              "      <td>20.70</td>\n",
              "      <td>-13.05</td>\n",
              "      <td>-18.54</td>\n",
              "      <td>130</td>\n",
              "      <td>-114.53</td>\n",
              "      <td>-2.22</td>\n",
              "      <td>-6.120000</td>\n",
              "    </tr>\n",
              "  </tbody>\n",
              "</table>\n",
              "<p>1500 rows × 15 columns</p>\n",
              "</div>"
            ],
            "text/plain": [
              "      F1     F2     F3      F4     F5  ...    F11  F12     F13    F14       F15\n",
              "0      2 -38.31   1.62  248.04 -11.74  ... -13.14    2  -74.53   9.18  0.463974\n",
              "1     20 -24.03  11.40  629.04  -8.02  ...  -8.67   15  -14.53   2.06  0.463974\n",
              "2      2 -45.06   1.84  206.04 -11.73  ... -20.37    3  -40.53   7.12  0.463974\n",
              "3     20 -22.35  18.30  539.04  -7.14  ...  -8.55  195  -29.53   1.46 -6.930000\n",
              "4     20 -22.47  10.70  749.04  -7.13  ... -10.47  285  -74.53  -1.74  0.463974\n",
              "...   ..    ...    ...     ...    ...  ...    ...  ...     ...    ...       ...\n",
              "1495  20 -22.80  14.80  329.04  -5.88  ... -10.98  195  -29.53   3.28  0.463974\n",
              "1496   2 -37.11   1.48  239.04 -14.27  ... -11.28   20  -75.53  10.10  0.463974\n",
              "1497   2 -35.67   0.20  200.04 -10.59  ...  -9.57   20  -46.53  10.46  0.463974\n",
              "1498   2 -36.21   1.62  275.04 -11.82  ... -11.22    6  -60.53   9.24  0.463974\n",
              "1499  20 -19.83  17.10  659.04  -6.62  ... -18.54  130 -114.53  -2.22 -6.120000\n",
              "\n",
              "[1500 rows x 15 columns]"
            ]
          },
          "metadata": {
            "tags": []
          },
          "execution_count": 221
        }
      ]
    },
    {
      "cell_type": "code",
      "metadata": {
        "id": "eliumeeEFaSE",
        "colab": {
          "base_uri": "https://localhost:8080/",
          "height": 203
        },
        "outputId": "0b90a05d-d7e7-4ed5-cdbf-bc95df5796f6"
      },
      "source": [
        "#splitting data into features and target\n",
        "#normalizing features\n",
        "Input=test_data.iloc[:,0:15]\n",
        "x = Input.values #returns a numpy array\n",
        "min_max_scaler = preprocessing.MinMaxScaler()\n",
        "x_scaled = min_max_scaler.fit_transform(x)\n",
        "test_data = pd.DataFrame(x_scaled)\n",
        "test_data.head()"
      ],
      "execution_count": 222,
      "outputs": [
        {
          "output_type": "execute_result",
          "data": {
            "text/html": [
              "<div>\n",
              "<style scoped>\n",
              "    .dataframe tbody tr th:only-of-type {\n",
              "        vertical-align: middle;\n",
              "    }\n",
              "\n",
              "    .dataframe tbody tr th {\n",
              "        vertical-align: top;\n",
              "    }\n",
              "\n",
              "    .dataframe thead th {\n",
              "        text-align: right;\n",
              "    }\n",
              "</style>\n",
              "<table border=\"1\" class=\"dataframe\">\n",
              "  <thead>\n",
              "    <tr style=\"text-align: right;\">\n",
              "      <th></th>\n",
              "      <th>0</th>\n",
              "      <th>1</th>\n",
              "      <th>2</th>\n",
              "      <th>3</th>\n",
              "      <th>4</th>\n",
              "      <th>5</th>\n",
              "      <th>6</th>\n",
              "      <th>7</th>\n",
              "      <th>8</th>\n",
              "      <th>9</th>\n",
              "      <th>10</th>\n",
              "      <th>11</th>\n",
              "      <th>12</th>\n",
              "      <th>13</th>\n",
              "      <th>14</th>\n",
              "    </tr>\n",
              "  </thead>\n",
              "  <tbody>\n",
              "    <tr>\n",
              "      <th>0</th>\n",
              "      <td>0.1</td>\n",
              "      <td>0.464506</td>\n",
              "      <td>0.078641</td>\n",
              "      <td>0.152</td>\n",
              "      <td>0.419872</td>\n",
              "      <td>0.486853</td>\n",
              "      <td>0.884615</td>\n",
              "      <td>0.081184</td>\n",
              "      <td>0.092122</td>\n",
              "      <td>0.580864</td>\n",
              "      <td>0.638851</td>\n",
              "      <td>0.0050</td>\n",
              "      <td>0.428571</td>\n",
              "      <td>0.542579</td>\n",
              "      <td>1.000000</td>\n",
              "    </tr>\n",
              "    <tr>\n",
              "      <th>1</th>\n",
              "      <td>1.0</td>\n",
              "      <td>0.831790</td>\n",
              "      <td>0.553398</td>\n",
              "      <td>0.660</td>\n",
              "      <td>0.717949</td>\n",
              "      <td>0.817642</td>\n",
              "      <td>0.000000</td>\n",
              "      <td>0.594078</td>\n",
              "      <td>0.529860</td>\n",
              "      <td>0.249788</td>\n",
              "      <td>0.842681</td>\n",
              "      <td>0.0375</td>\n",
              "      <td>0.714286</td>\n",
              "      <td>0.253852</td>\n",
              "      <td>1.000000</td>\n",
              "    </tr>\n",
              "    <tr>\n",
              "      <th>2</th>\n",
              "      <td>0.1</td>\n",
              "      <td>0.290895</td>\n",
              "      <td>0.089320</td>\n",
              "      <td>0.096</td>\n",
              "      <td>0.420673</td>\n",
              "      <td>0.484309</td>\n",
              "      <td>0.807692</td>\n",
              "      <td>0.059217</td>\n",
              "      <td>0.053367</td>\n",
              "      <td>0.497883</td>\n",
              "      <td>0.309166</td>\n",
              "      <td>0.0075</td>\n",
              "      <td>0.590476</td>\n",
              "      <td>0.459043</td>\n",
              "      <td>1.000000</td>\n",
              "    </tr>\n",
              "    <tr>\n",
              "      <th>3</th>\n",
              "      <td>1.0</td>\n",
              "      <td>0.875000</td>\n",
              "      <td>0.888350</td>\n",
              "      <td>0.540</td>\n",
              "      <td>0.788462</td>\n",
              "      <td>0.919423</td>\n",
              "      <td>0.000000</td>\n",
              "      <td>0.594078</td>\n",
              "      <td>0.371029</td>\n",
              "      <td>0.125318</td>\n",
              "      <td>0.848153</td>\n",
              "      <td>0.4875</td>\n",
              "      <td>0.642857</td>\n",
              "      <td>0.229521</td>\n",
              "      <td>0.245819</td>\n",
              "    </tr>\n",
              "    <tr>\n",
              "      <th>4</th>\n",
              "      <td>1.0</td>\n",
              "      <td>0.871914</td>\n",
              "      <td>0.519417</td>\n",
              "      <td>0.820</td>\n",
              "      <td>0.789263</td>\n",
              "      <td>0.881255</td>\n",
              "      <td>0.769231</td>\n",
              "      <td>0.976122</td>\n",
              "      <td>0.911055</td>\n",
              "      <td>0.199831</td>\n",
              "      <td>0.760602</td>\n",
              "      <td>0.7125</td>\n",
              "      <td>0.428571</td>\n",
              "      <td>0.099757</td>\n",
              "      <td>1.000000</td>\n",
              "    </tr>\n",
              "  </tbody>\n",
              "</table>\n",
              "</div>"
            ],
            "text/plain": [
              "    0         1         2      3   ...      11        12        13        14\n",
              "0  0.1  0.464506  0.078641  0.152  ...  0.0050  0.428571  0.542579  1.000000\n",
              "1  1.0  0.831790  0.553398  0.660  ...  0.0375  0.714286  0.253852  1.000000\n",
              "2  0.1  0.290895  0.089320  0.096  ...  0.0075  0.590476  0.459043  1.000000\n",
              "3  1.0  0.875000  0.888350  0.540  ...  0.4875  0.642857  0.229521  0.245819\n",
              "4  1.0  0.871914  0.519417  0.820  ...  0.7125  0.428571  0.099757  1.000000\n",
              "\n",
              "[5 rows x 15 columns]"
            ]
          },
          "metadata": {
            "tags": []
          },
          "execution_count": 222
        }
      ]
    },
    {
      "cell_type": "code",
      "metadata": {
        "id": "Zxr_c1QvPC0F"
      },
      "source": [
        "#predicting test data using SVM model\n",
        "test_pred=svclassifier.predict(test_data)"
      ],
      "execution_count": 223,
      "outputs": []
    },
    {
      "cell_type": "code",
      "metadata": {
        "id": "NMQDVka_PC2x"
      },
      "source": [
        "#Loading test data\n",
        "test_data_final=pd.read_csv(\"/content/drive/My Drive/CE802/CE802_P2_Test.csv\")\n",
        "target = pd.DataFrame({'Class': test_pred[:]})"
      ],
      "execution_count": 224,
      "outputs": []
    },
    {
      "cell_type": "code",
      "metadata": {
        "id": "u3KK9x3qPC8l"
      },
      "source": [
        "test_data_final['Class']=target"
      ],
      "execution_count": 225,
      "outputs": []
    },
    {
      "cell_type": "code",
      "metadata": {
        "id": "ZNIzAIi_PC_V"
      },
      "source": [
        "#converting 1 to true and 0 to false\n",
        "cleanup = {\"Class\": {0:False,1: True}}\n",
        "test_data_final.replace(cleanup, inplace=True)"
      ],
      "execution_count": 226,
      "outputs": []
    },
    {
      "cell_type": "code",
      "metadata": {
        "id": "w39-KyUVP5mz"
      },
      "source": [
        "#Write final data into CSV\n",
        "test_data_final.to_csv('CE802_P2_Test.csv', encoding='utf-8', index=False)"
      ],
      "execution_count": 227,
      "outputs": []
    }
  ]
}